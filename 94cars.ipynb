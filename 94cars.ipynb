{
 "cells": [
  {
   "cell_type": "code",
   "execution_count": 4,
   "id": "bc77955d",
   "metadata": {},
   "outputs": [],
   "source": [
    "import pandas as pd \n",
    "import matplotlib.pyplot as plt\n",
    "import seaborn as sns\n",
    "from sklearn.model_selection import train_test_split\n",
    "from sklearn.linear_model import LinearRegression\n",
    "from sklearn.linear_model import Lasso \n",
    "from sklearn import metrics"
   ]
  },
  {
   "cell_type": "code",
   "execution_count": 5,
   "id": "23df4fa4",
   "metadata": {},
   "outputs": [],
   "source": [
    "#Loading the data from excel to pandas \n",
    "cars_data = pd.read_excel(\"/Users/ataberkcinetci/Desktop/ProjectX/Data/asg1_traindata.xlsx\")"
   ]
  },
  {
   "cell_type": "code",
   "execution_count": 6,
   "id": "d0700869",
   "metadata": {},
   "outputs": [
    {
     "data": {
      "text/html": [
       "<div>\n",
       "<style scoped>\n",
       "    .dataframe tbody tr th:only-of-type {\n",
       "        vertical-align: middle;\n",
       "    }\n",
       "\n",
       "    .dataframe tbody tr th {\n",
       "        vertical-align: top;\n",
       "    }\n",
       "\n",
       "    .dataframe thead th {\n",
       "        text-align: right;\n",
       "    }\n",
       "</style>\n",
       "<table border=\"1\" class=\"dataframe\">\n",
       "  <thead>\n",
       "    <tr style=\"text-align: right;\">\n",
       "      <th></th>\n",
       "      <th>Price</th>\n",
       "      <th>Year</th>\n",
       "      <th>Type</th>\n",
       "      <th>Shift</th>\n",
       "      <th>km</th>\n",
       "      <th>Power</th>\n",
       "      <th>Engine</th>\n",
       "      <th>Seller</th>\n",
       "    </tr>\n",
       "  </thead>\n",
       "  <tbody>\n",
       "    <tr>\n",
       "      <th>0</th>\n",
       "      <td>24900</td>\n",
       "      <td>2004</td>\n",
       "      <td>Diesel</td>\n",
       "      <td>Manual</td>\n",
       "      <td>270000</td>\n",
       "      <td>70</td>\n",
       "      <td>1248</td>\n",
       "      <td>Dealer</td>\n",
       "    </tr>\n",
       "    <tr>\n",
       "      <th>1</th>\n",
       "      <td>27500</td>\n",
       "      <td>2004</td>\n",
       "      <td>Gasoline</td>\n",
       "      <td>Manual</td>\n",
       "      <td>164000</td>\n",
       "      <td>75</td>\n",
       "      <td>1199</td>\n",
       "      <td>Dealer</td>\n",
       "    </tr>\n",
       "    <tr>\n",
       "      <th>2</th>\n",
       "      <td>42500</td>\n",
       "      <td>2008</td>\n",
       "      <td>Diesel</td>\n",
       "      <td>Auto</td>\n",
       "      <td>300000</td>\n",
       "      <td>90</td>\n",
       "      <td>1248</td>\n",
       "      <td>Dealer</td>\n",
       "    </tr>\n",
       "    <tr>\n",
       "      <th>3</th>\n",
       "      <td>63750</td>\n",
       "      <td>2017</td>\n",
       "      <td>Gasoline</td>\n",
       "      <td>Auto</td>\n",
       "      <td>8780</td>\n",
       "      <td>90</td>\n",
       "      <td>1398</td>\n",
       "      <td>Dealer</td>\n",
       "    </tr>\n",
       "    <tr>\n",
       "      <th>4</th>\n",
       "      <td>25000</td>\n",
       "      <td>2004</td>\n",
       "      <td>Diesel</td>\n",
       "      <td>Manual</td>\n",
       "      <td>200000</td>\n",
       "      <td>70</td>\n",
       "      <td>1248</td>\n",
       "      <td>Owner</td>\n",
       "    </tr>\n",
       "  </tbody>\n",
       "</table>\n",
       "</div>"
      ],
      "text/plain": [
       "   Price  Year      Type   Shift      km  Power  Engine  Seller\n",
       "0  24900  2004    Diesel  Manual  270000     70    1248  Dealer\n",
       "1  27500  2004  Gasoline  Manual  164000     75    1199  Dealer\n",
       "2  42500  2008    Diesel    Auto  300000     90    1248  Dealer\n",
       "3  63750  2017  Gasoline    Auto    8780     90    1398  Dealer\n",
       "4  25000  2004    Diesel  Manual  200000     70    1248   Owner"
      ]
     },
     "execution_count": 6,
     "metadata": {},
     "output_type": "execute_result"
    }
   ],
   "source": [
    "#inspecting first 5 datas\n",
    "cars_data.head()"
   ]
  },
  {
   "cell_type": "code",
   "execution_count": 7,
   "id": "5894a859",
   "metadata": {},
   "outputs": [
    {
     "name": "stdout",
     "output_type": "stream",
     "text": [
      "<class 'pandas.core.frame.DataFrame'>\n",
      "RangeIndex: 2900 entries, 0 to 2899\n",
      "Data columns (total 8 columns):\n",
      " #   Column  Non-Null Count  Dtype \n",
      "---  ------  --------------  ----- \n",
      " 0   Price   2900 non-null   int64 \n",
      " 1   Year    2900 non-null   int64 \n",
      " 2   Type    2900 non-null   object\n",
      " 3   Shift   2900 non-null   object\n",
      " 4   km      2900 non-null   int64 \n",
      " 5   Power   2900 non-null   int64 \n",
      " 6   Engine  2900 non-null   int64 \n",
      " 7   Seller  2900 non-null   object\n",
      "dtypes: int64(5), object(3)\n",
      "memory usage: 181.4+ KB\n"
     ]
    }
   ],
   "source": [
    "cars_data.info()"
   ]
  },
  {
   "cell_type": "code",
   "execution_count": 44,
   "id": "4a9f02db",
   "metadata": {},
   "outputs": [
    {
     "data": {
      "text/plain": [
       "(2900, 8)"
      ]
     },
     "execution_count": 44,
     "metadata": {},
     "output_type": "execute_result"
    }
   ],
   "source": [
    "#Getting how many rows and columns information \n",
    "cars_data.shape"
   ]
  },
  {
   "cell_type": "code",
   "execution_count": 9,
   "id": "a866c570",
   "metadata": {},
   "outputs": [
    {
     "data": {
      "text/plain": [
       "Price     0\n",
       "Year      0\n",
       "Type      0\n",
       "Shift     0\n",
       "km        0\n",
       "Power     0\n",
       "Engine    0\n",
       "Seller    0\n",
       "dtype: int64"
      ]
     },
     "execution_count": 9,
     "metadata": {},
     "output_type": "execute_result"
    }
   ],
   "source": [
    "#Checking the number of missing values\n",
    "cars_data.isnull().sum()"
   ]
  },
  {
   "cell_type": "code",
   "execution_count": 10,
   "id": "b727fbfd",
   "metadata": {},
   "outputs": [
    {
     "name": "stdout",
     "output_type": "stream",
     "text": [
      "Gasoline    1133\n",
      "Diesel      1113\n",
      "LPG          654\n",
      "Name: Type, dtype: int64\n",
      "Manual    1951\n",
      "Auto       949\n",
      "Name: Shift, dtype: int64\n",
      "Owner     1635\n",
      "Dealer    1265\n",
      "Name: Seller, dtype: int64\n"
     ]
    }
   ],
   "source": [
    "#checking the distrubition of categorical data \n",
    "print(cars_data.Type.value_counts())\n",
    "print(cars_data.Shift.value_counts())\n",
    "print(cars_data.Seller.value_counts())"
   ]
  },
  {
   "cell_type": "markdown",
   "id": "c7f0cbe4",
   "metadata": {},
   "source": [
    "# Encoding the categorical datas "
   ]
  },
  {
   "cell_type": "code",
   "execution_count": 11,
   "id": "537ee06e",
   "metadata": {},
   "outputs": [],
   "source": [
    "#encoding \"Type\"\n",
    "cars_data.replace({\"Type\":{\"Gasoline\": 0,\"Diesel\":1, \"LPG\": 2}},inplace = True)"
   ]
  },
  {
   "cell_type": "code",
   "execution_count": 12,
   "id": "c69efaa7",
   "metadata": {},
   "outputs": [],
   "source": [
    "#encoding \"Shift\"\n",
    "cars_data.replace({\"Shift\":{\"Manual\": 0,\"Auto\":1}},inplace=True)"
   ]
  },
  {
   "cell_type": "code",
   "execution_count": 13,
   "id": "0ad2deb3",
   "metadata": {},
   "outputs": [],
   "source": [
    "#Encoding \"Seller\"\n",
    "cars_data.replace({\"Seller\":{\"Owner\": 0,\"Dealer\":1}},inplace=True)"
   ]
  },
  {
   "cell_type": "code",
   "execution_count": 14,
   "id": "f297016c",
   "metadata": {},
   "outputs": [],
   "source": [
    "#Splitting data in to 2 parts: DATA and TARGET\n",
    "X=cars_data.drop([\"Price\"],axis=1)\n",
    "Y=cars_data[\"Price\"]"
   ]
  },
  {
   "cell_type": "code",
   "execution_count": 15,
   "id": "e44e7877",
   "metadata": {},
   "outputs": [],
   "source": [
    "# Splitting data into train and test\n",
    "X_train, X_test, Y_train, Y_test = train_test_split(X,Y,test_size=0.2,) "
   ]
  },
  {
   "cell_type": "markdown",
   "id": "0fbe7499",
   "metadata": {},
   "source": [
    "# Model Training"
   ]
  },
  {
   "cell_type": "code",
   "execution_count": 16,
   "id": "55912185",
   "metadata": {},
   "outputs": [],
   "source": [
    "#Linear Regression Model"
   ]
  },
  {
   "cell_type": "code",
   "execution_count": 17,
   "id": "30f918ec",
   "metadata": {},
   "outputs": [],
   "source": [
    "lr = LinearRegression()"
   ]
  },
  {
   "cell_type": "code",
   "execution_count": 18,
   "id": "37cf7798",
   "metadata": {},
   "outputs": [
    {
     "data": {
      "text/plain": [
       "LinearRegression()"
      ]
     },
     "execution_count": 18,
     "metadata": {},
     "output_type": "execute_result"
    }
   ],
   "source": [
    "lr.fit(X_train,Y_train)"
   ]
  },
  {
   "cell_type": "code",
   "execution_count": 49,
   "id": "80446134",
   "metadata": {},
   "outputs": [],
   "source": [
    "train_data_prediction = lr.predict(X_train)"
   ]
  },
  {
   "cell_type": "code",
   "execution_count": 50,
   "id": "b44ad721",
   "metadata": {},
   "outputs": [
    {
     "name": "stdout",
     "output_type": "stream",
     "text": [
      "r^2 error: 0.8615779140975499\n"
     ]
    }
   ],
   "source": [
    "# r^2 error for train\n",
    "error_score = metrics.r2_score(Y_train, train_data_prediction)\n",
    "print(\"r^2 error:\", error_score)"
   ]
  },
  {
   "cell_type": "code",
   "execution_count": 51,
   "id": "5cac73da",
   "metadata": {},
   "outputs": [
    {
     "name": "stdout",
     "output_type": "stream",
     "text": [
      "r^2 error: 0.8986388768555731\n"
     ]
    }
   ],
   "source": [
    "# r^2 error for test data\n",
    "test_data_prediction = lr.predict(X_test)\n",
    "error_score = metrics.r2_score(Y_test, test_data_prediction)\n",
    "print(\"r^2 error:\", error_score)"
   ]
  },
  {
   "cell_type": "markdown",
   "id": "ef079e20",
   "metadata": {},
   "source": [
    "# Visualize the actual ad predicted prices"
   ]
  },
  {
   "cell_type": "code",
   "execution_count": 52,
   "id": "e2d9e587",
   "metadata": {},
   "outputs": [
    {
     "data": {
      "image/png": "[encoded data removed]",
      "text/plain": [
       "<Figure size 640x480 with 1 Axes>"
      ]
     },
     "metadata": {},
     "output_type": "display_data"
    }
   ],
   "source": [
    "plt.scatter(Y_train, train_data_prediction)\n",
    "plt.xlabel(\"Actual Price\")\n",
    "plt.ylabel(\"Predicted Price\")\n",
    "plt.title(\"Actual vs Predicted\")\n",
    "plt.show()"
   ]
  },
  {
   "cell_type": "code",
   "execution_count": 53,
   "id": "cf550fed",
   "metadata": {},
   "outputs": [
    {
     "data": {
      "image/png": "[encoded data removed]",
      "text/plain": [
       "<Figure size 640x480 with 1 Axes>"
      ]
     },
     "metadata": {},
     "output_type": "display_data"
    }
   ],
   "source": [
    "plt.scatter(Y_test, test_data_prediction)\n",
    "plt.xlabel(\"Actual Price\")\n",
    "plt.ylabel(\"Predicted Price\")\n",
    "plt.title(\"Actual vs Predicted\")\n",
    "plt.show()"
   ]
  },
  {
   "cell_type": "markdown",
   "id": "44dcf27a",
   "metadata": {},
   "source": [
    "# 94 Car prices"
   ]
  },
  {
   "cell_type": "code",
   "execution_count": 24,
   "id": "7b222720",
   "metadata": {},
   "outputs": [],
   "source": [
    "new_data = pd.read_excel(\"/Users/ataberkcinetci/Desktop/ProjectX/Data/asg1_testdata_without_prices.xlsx\")"
   ]
  },
  {
   "cell_type": "code",
   "execution_count": 54,
   "id": "c100a418",
   "metadata": {
    "scrolled": true
   },
   "outputs": [
    {
     "data": {
      "text/html": [
       "<div>\n",
       "<style scoped>\n",
       "    .dataframe tbody tr th:only-of-type {\n",
       "        vertical-align: middle;\n",
       "    }\n",
       "\n",
       "    .dataframe tbody tr th {\n",
       "        vertical-align: top;\n",
       "    }\n",
       "\n",
       "    .dataframe thead th {\n",
       "        text-align: right;\n",
       "    }\n",
       "</style>\n",
       "<table border=\"1\" class=\"dataframe\">\n",
       "  <thead>\n",
       "    <tr style=\"text-align: right;\">\n",
       "      <th></th>\n",
       "      <th>Year</th>\n",
       "      <th>Type</th>\n",
       "      <th>Shift</th>\n",
       "      <th>km</th>\n",
       "      <th>Power</th>\n",
       "      <th>Engine</th>\n",
       "      <th>Seller</th>\n",
       "    </tr>\n",
       "  </thead>\n",
       "  <tbody>\n",
       "    <tr>\n",
       "      <th>0</th>\n",
       "      <td>2013</td>\n",
       "      <td>1</td>\n",
       "      <td>0</td>\n",
       "      <td>60000</td>\n",
       "      <td>75</td>\n",
       "      <td>1248</td>\n",
       "      <td>0</td>\n",
       "    </tr>\n",
       "    <tr>\n",
       "      <th>1</th>\n",
       "      <td>2004</td>\n",
       "      <td>0</td>\n",
       "      <td>0</td>\n",
       "      <td>108000</td>\n",
       "      <td>80</td>\n",
       "      <td>1229</td>\n",
       "      <td>1</td>\n",
       "    </tr>\n",
       "    <tr>\n",
       "      <th>2</th>\n",
       "      <td>2005</td>\n",
       "      <td>0</td>\n",
       "      <td>0</td>\n",
       "      <td>134500</td>\n",
       "      <td>80</td>\n",
       "      <td>1229</td>\n",
       "      <td>0</td>\n",
       "    </tr>\n",
       "    <tr>\n",
       "      <th>3</th>\n",
       "      <td>2000</td>\n",
       "      <td>2</td>\n",
       "      <td>0</td>\n",
       "      <td>200000</td>\n",
       "      <td>90</td>\n",
       "      <td>1389</td>\n",
       "      <td>1</td>\n",
       "    </tr>\n",
       "    <tr>\n",
       "      <th>4</th>\n",
       "      <td>2003</td>\n",
       "      <td>1</td>\n",
       "      <td>0</td>\n",
       "      <td>168000</td>\n",
       "      <td>51</td>\n",
       "      <td>1601</td>\n",
       "      <td>0</td>\n",
       "    </tr>\n",
       "    <tr>\n",
       "      <th>...</th>\n",
       "      <td>...</td>\n",
       "      <td>...</td>\n",
       "      <td>...</td>\n",
       "      <td>...</td>\n",
       "      <td>...</td>\n",
       "      <td>...</td>\n",
       "      <td>...</td>\n",
       "    </tr>\n",
       "    <tr>\n",
       "      <th>89</th>\n",
       "      <td>2004</td>\n",
       "      <td>1</td>\n",
       "      <td>0</td>\n",
       "      <td>202000</td>\n",
       "      <td>70</td>\n",
       "      <td>1248</td>\n",
       "      <td>0</td>\n",
       "    </tr>\n",
       "    <tr>\n",
       "      <th>90</th>\n",
       "      <td>2012</td>\n",
       "      <td>0</td>\n",
       "      <td>1</td>\n",
       "      <td>70000</td>\n",
       "      <td>85</td>\n",
       "      <td>1229</td>\n",
       "      <td>1</td>\n",
       "    </tr>\n",
       "    <tr>\n",
       "      <th>91</th>\n",
       "      <td>2012</td>\n",
       "      <td>0</td>\n",
       "      <td>1</td>\n",
       "      <td>27000</td>\n",
       "      <td>100</td>\n",
       "      <td>1364</td>\n",
       "      <td>0</td>\n",
       "    </tr>\n",
       "    <tr>\n",
       "      <th>92</th>\n",
       "      <td>1997</td>\n",
       "      <td>2</td>\n",
       "      <td>0</td>\n",
       "      <td>186000</td>\n",
       "      <td>90</td>\n",
       "      <td>1389</td>\n",
       "      <td>1</td>\n",
       "    </tr>\n",
       "    <tr>\n",
       "      <th>93</th>\n",
       "      <td>2011</td>\n",
       "      <td>1</td>\n",
       "      <td>0</td>\n",
       "      <td>130000</td>\n",
       "      <td>75</td>\n",
       "      <td>1248</td>\n",
       "      <td>0</td>\n",
       "    </tr>\n",
       "  </tbody>\n",
       "</table>\n",
       "<p>94 rows × 7 columns</p>\n",
       "</div>"
      ],
      "text/plain": [
       "    Year  Type  Shift      km  Power  Engine  Seller\n",
       "0   2013     1      0   60000     75    1248       0\n",
       "1   2004     0      0  108000     80    1229       1\n",
       "2   2005     0      0  134500     80    1229       0\n",
       "3   2000     2      0  200000     90    1389       1\n",
       "4   2003     1      0  168000     51    1601       0\n",
       "..   ...   ...    ...     ...    ...     ...     ...\n",
       "89  2004     1      0  202000     70    1248       0\n",
       "90  2012     0      1   70000     85    1229       1\n",
       "91  2012     0      1   27000    100    1364       0\n",
       "92  1997     2      0  186000     90    1389       1\n",
       "93  2011     1      0  130000     75    1248       0\n",
       "\n",
       "[94 rows x 7 columns]"
      ]
     },
     "execution_count": 54,
     "metadata": {},
     "output_type": "execute_result"
    }
   ],
   "source": [
    "new_data"
   ]
  },
  {
   "cell_type": "markdown",
   "id": "f02619f8",
   "metadata": {},
   "source": [
    "# Encoding new data"
   ]
  },
  {
   "cell_type": "code",
   "execution_count": 55,
   "id": "a37abed0",
   "metadata": {},
   "outputs": [],
   "source": [
    "#encoding \"Type\"\n",
    "new_data.replace({\"Type\":{\"Gasoline\": 0,\"Diesel\":1, \"LPG\": 2}},inplace = True)"
   ]
  },
  {
   "cell_type": "code",
   "execution_count": 56,
   "id": "f226886b",
   "metadata": {},
   "outputs": [],
   "source": [
    "#encoding \"Shift\"\n",
    "new_data.replace({\"Shift\":{\"Manual\": 0,\"Auto\":1}},inplace=True)"
   ]
  },
  {
   "cell_type": "code",
   "execution_count": 33,
   "id": "a0c8830f",
   "metadata": {},
   "outputs": [],
   "source": [
    "#Encoding \"Seller\"\n",
    "new_data.replace({\"Seller\":{\"Owner\": 0,\"Dealer\":1}},inplace=True)"
   ]
  },
  {
   "cell_type": "code",
   "execution_count": 57,
   "id": "f3476359",
   "metadata": {
    "scrolled": true
   },
   "outputs": [
    {
     "name": "stdout",
     "output_type": "stream",
     "text": [
      "<class 'pandas.core.frame.DataFrame'>\n",
      "RangeIndex: 94 entries, 0 to 93\n",
      "Data columns (total 7 columns):\n",
      " #   Column  Non-Null Count  Dtype\n",
      "---  ------  --------------  -----\n",
      " 0   Year    94 non-null     int64\n",
      " 1   Type    94 non-null     int64\n",
      " 2   Shift   94 non-null     int64\n",
      " 3   km      94 non-null     int64\n",
      " 4   Power   94 non-null     int64\n",
      " 5   Engine  94 non-null     int64\n",
      " 6   Seller  94 non-null     int64\n",
      "dtypes: int64(7)\n",
      "memory usage: 5.3 KB\n"
     ]
    }
   ],
   "source": [
    "new_data.info()"
   ]
  },
  {
   "cell_type": "code",
   "execution_count": 58,
   "id": "a3cf99e4",
   "metadata": {},
   "outputs": [
    {
     "data": {
      "text/html": [
       "<div>\n",
       "<style scoped>\n",
       "    .dataframe tbody tr th:only-of-type {\n",
       "        vertical-align: middle;\n",
       "    }\n",
       "\n",
       "    .dataframe tbody tr th {\n",
       "        vertical-align: top;\n",
       "    }\n",
       "\n",
       "    .dataframe thead th {\n",
       "        text-align: right;\n",
       "    }\n",
       "</style>\n",
       "<table border=\"1\" class=\"dataframe\">\n",
       "  <thead>\n",
       "    <tr style=\"text-align: right;\">\n",
       "      <th></th>\n",
       "      <th>Year</th>\n",
       "      <th>Type</th>\n",
       "      <th>Shift</th>\n",
       "      <th>km</th>\n",
       "      <th>Power</th>\n",
       "      <th>Engine</th>\n",
       "      <th>Seller</th>\n",
       "    </tr>\n",
       "  </thead>\n",
       "  <tbody>\n",
       "    <tr>\n",
       "      <th>0</th>\n",
       "      <td>2013</td>\n",
       "      <td>1</td>\n",
       "      <td>0</td>\n",
       "      <td>60000</td>\n",
       "      <td>75</td>\n",
       "      <td>1248</td>\n",
       "      <td>0</td>\n",
       "    </tr>\n",
       "    <tr>\n",
       "      <th>1</th>\n",
       "      <td>2004</td>\n",
       "      <td>0</td>\n",
       "      <td>0</td>\n",
       "      <td>108000</td>\n",
       "      <td>80</td>\n",
       "      <td>1229</td>\n",
       "      <td>1</td>\n",
       "    </tr>\n",
       "    <tr>\n",
       "      <th>2</th>\n",
       "      <td>2005</td>\n",
       "      <td>0</td>\n",
       "      <td>0</td>\n",
       "      <td>134500</td>\n",
       "      <td>80</td>\n",
       "      <td>1229</td>\n",
       "      <td>0</td>\n",
       "    </tr>\n",
       "    <tr>\n",
       "      <th>3</th>\n",
       "      <td>2000</td>\n",
       "      <td>2</td>\n",
       "      <td>0</td>\n",
       "      <td>200000</td>\n",
       "      <td>90</td>\n",
       "      <td>1389</td>\n",
       "      <td>1</td>\n",
       "    </tr>\n",
       "    <tr>\n",
       "      <th>4</th>\n",
       "      <td>2003</td>\n",
       "      <td>1</td>\n",
       "      <td>0</td>\n",
       "      <td>168000</td>\n",
       "      <td>51</td>\n",
       "      <td>1601</td>\n",
       "      <td>0</td>\n",
       "    </tr>\n",
       "  </tbody>\n",
       "</table>\n",
       "</div>"
      ],
      "text/plain": [
       "   Year  Type  Shift      km  Power  Engine  Seller\n",
       "0  2013     1      0   60000     75    1248       0\n",
       "1  2004     0      0  108000     80    1229       1\n",
       "2  2005     0      0  134500     80    1229       0\n",
       "3  2000     2      0  200000     90    1389       1\n",
       "4  2003     1      0  168000     51    1601       0"
      ]
     },
     "execution_count": 58,
     "metadata": {},
     "output_type": "execute_result"
    }
   ],
   "source": [
    "new_data.head()"
   ]
  },
  {
   "cell_type": "code",
   "execution_count": 59,
   "id": "19c0d875",
   "metadata": {},
   "outputs": [],
   "source": [
    "prices = lr.predict(new_data)"
   ]
  },
  {
   "cell_type": "code",
   "execution_count": 60,
   "id": "dd5ec59b",
   "metadata": {},
   "outputs": [
    {
     "data": {
      "text/plain": [
       "array([45109.03281689, 28514.25030721, 29083.09582709, 20625.745337  ,\n",
       "       27480.08919917, 48174.98913484, 40509.39045061, 29956.85106832,\n",
       "       42297.12932921, 18638.37488711, 50263.5557665 , 18868.60214139,\n",
       "       47541.63645881, 37262.96137409, 29001.6567326 , 37368.78268191,\n",
       "       39032.69973011, 30659.3243684 , 29426.22225408, 53672.10586044,\n",
       "       51806.76092369, 22666.37234845, 20146.6326577 , 50455.67337894,\n",
       "       19158.1145037 ,  7735.45386058, 48481.69116143, 29446.61623986,\n",
       "       15920.0631271 , 20659.46326581, 23714.14993149, 47852.39046693,\n",
       "       24765.13739325, 50513.26345757, 42163.34743144, 26289.96296754,\n",
       "       55420.593625  , 36018.45475502, 44018.96428636, 21538.50442911,\n",
       "       24991.32699935, 28413.84597813, 37838.4149553 , 15618.9820701 ,\n",
       "       47275.85871628, 49891.43156922, 17971.38555953, 42879.20174528,\n",
       "       25134.17898389, 27232.31568686, 48753.96101433, 52969.16129442,\n",
       "       26676.31129478, 43778.15516931, 25796.63479601, 30693.10550931,\n",
       "       31094.10934442, 58059.15173022, 27497.65917777, 45599.56644204,\n",
       "       41360.65604484, 27859.37817429, 32111.45225558, 30676.99444235,\n",
       "       26206.91780059, 54629.38639634, 26019.60462562, 53782.10104382,\n",
       "       37479.47752699, 44866.41479704, 22554.70681751, 16840.85487238,\n",
       "       20614.72270631, 41628.21984038, 41797.65839278, 32610.30418578,\n",
       "       34191.32293106, 29905.33493338, 43363.41446921, 33368.40160646,\n",
       "       36015.03776671, 28250.73614432, 24191.2520228 , 27744.02112912,\n",
       "       26406.7005468 , 25324.35338026, 42377.37994978, 26429.01617942,\n",
       "       32453.97416963, 25044.99105204, 46622.21284399, 49987.07317778,\n",
       "       16694.02543212, 38950.09825046])"
      ]
     },
     "execution_count": 60,
     "metadata": {},
     "output_type": "execute_result"
    }
   ],
   "source": [
    "prices"
   ]
  },
  {
   "cell_type": "code",
   "execution_count": null,
   "id": "0665307e",
   "metadata": {},
   "outputs": [],
   "source": []
  }
 ],
 "metadata": {
  "kernelspec": {
   "display_name": "Python 3 (ipykernel)",
   "language": "python",
   "name": "python3"
  },
  "language_info": {
   "codemirror_mode": {
    "name": "ipython",
    "version": 3
   },
   "file_extension": ".py",
   "mimetype": "text/x-python",
   "name": "python",
   "nbconvert_exporter": "python",
   "pygments_lexer": "ipython3",
   "version": "3.9.12"
  }
 },
 "nbformat": 4,
 "nbformat_minor": 5
}

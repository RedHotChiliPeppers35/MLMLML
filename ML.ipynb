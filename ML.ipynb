{
 "cells": [
  {
   "cell_type": "code",
   "execution_count": 98,
   "id": "bc77955d",
   "metadata": {},
   "outputs": [],
   "source": [
    "import pandas as pd \n",
    "import matplotlib.pyplot as plt\n",
    "import seaborn as sns\n",
    "from sklearn.model_selection import train_test_split\n",
    "from sklearn.linear_model import LinearRegression\n",
    "from sklearn.linear_model import Lasso \n",
    "from sklearn import metrics"
   ]
  },
  {
   "cell_type": "code",
   "execution_count": 99,
   "id": "23df4fa4",
   "metadata": {},
   "outputs": [],
   "source": [
    "#Loading the data from excel to pandas \n",
    "cars_data = pd.read_excel(\"/Users/ataberkcinetci/Desktop/ProjectX/Data/asg1_traindata.xlsx\")"
   ]
  },
  {
   "cell_type": "code",
   "execution_count": 100,
   "id": "d0700869",
   "metadata": {},
   "outputs": [
    {
     "data": {
      "text/html": [
       "<div>\n",
       "<style scoped>\n",
       "    .dataframe tbody tr th:only-of-type {\n",
       "        vertical-align: middle;\n",
       "    }\n",
       "\n",
       "    .dataframe tbody tr th {\n",
       "        vertical-align: top;\n",
       "    }\n",
       "\n",
       "    .dataframe thead th {\n",
       "        text-align: right;\n",
       "    }\n",
       "</style>\n",
       "<table border=\"1\" class=\"dataframe\">\n",
       "  <thead>\n",
       "    <tr style=\"text-align: right;\">\n",
       "      <th></th>\n",
       "      <th>Price</th>\n",
       "      <th>Year</th>\n",
       "      <th>Type</th>\n",
       "      <th>Shift</th>\n",
       "      <th>km</th>\n",
       "      <th>Power</th>\n",
       "      <th>Engine</th>\n",
       "      <th>Seller</th>\n",
       "    </tr>\n",
       "  </thead>\n",
       "  <tbody>\n",
       "    <tr>\n",
       "      <th>0</th>\n",
       "      <td>24900</td>\n",
       "      <td>2004</td>\n",
       "      <td>Diesel</td>\n",
       "      <td>Manual</td>\n",
       "      <td>270000</td>\n",
       "      <td>70</td>\n",
       "      <td>1248</td>\n",
       "      <td>Dealer</td>\n",
       "    </tr>\n",
       "    <tr>\n",
       "      <th>1</th>\n",
       "      <td>27500</td>\n",
       "      <td>2004</td>\n",
       "      <td>Gasoline</td>\n",
       "      <td>Manual</td>\n",
       "      <td>164000</td>\n",
       "      <td>75</td>\n",
       "      <td>1199</td>\n",
       "      <td>Dealer</td>\n",
       "    </tr>\n",
       "    <tr>\n",
       "      <th>2</th>\n",
       "      <td>42500</td>\n",
       "      <td>2008</td>\n",
       "      <td>Diesel</td>\n",
       "      <td>Auto</td>\n",
       "      <td>300000</td>\n",
       "      <td>90</td>\n",
       "      <td>1248</td>\n",
       "      <td>Dealer</td>\n",
       "    </tr>\n",
       "    <tr>\n",
       "      <th>3</th>\n",
       "      <td>63750</td>\n",
       "      <td>2017</td>\n",
       "      <td>Gasoline</td>\n",
       "      <td>Auto</td>\n",
       "      <td>8780</td>\n",
       "      <td>90</td>\n",
       "      <td>1398</td>\n",
       "      <td>Dealer</td>\n",
       "    </tr>\n",
       "    <tr>\n",
       "      <th>4</th>\n",
       "      <td>25000</td>\n",
       "      <td>2004</td>\n",
       "      <td>Diesel</td>\n",
       "      <td>Manual</td>\n",
       "      <td>200000</td>\n",
       "      <td>70</td>\n",
       "      <td>1248</td>\n",
       "      <td>Owner</td>\n",
       "    </tr>\n",
       "  </tbody>\n",
       "</table>\n",
       "</div>"
      ],
      "text/plain": [
       "   Price  Year      Type   Shift      km  Power  Engine  Seller\n",
       "0  24900  2004    Diesel  Manual  270000     70    1248  Dealer\n",
       "1  27500  2004  Gasoline  Manual  164000     75    1199  Dealer\n",
       "2  42500  2008    Diesel    Auto  300000     90    1248  Dealer\n",
       "3  63750  2017  Gasoline    Auto    8780     90    1398  Dealer\n",
       "4  25000  2004    Diesel  Manual  200000     70    1248   Owner"
      ]
     },
     "execution_count": 100,
     "metadata": {},
     "output_type": "execute_result"
    }
   ],
   "source": [
    "#inspecting first 5 datas\n",
    "cars_data.head()"
   ]
  },
  {
   "cell_type": "code",
   "execution_count": 101,
   "id": "5894a859",
   "metadata": {},
   "outputs": [
    {
     "name": "stdout",
     "output_type": "stream",
     "text": [
      "<class 'pandas.core.frame.DataFrame'>\n",
      "RangeIndex: 2900 entries, 0 to 2899\n",
      "Data columns (total 8 columns):\n",
      " #   Column  Non-Null Count  Dtype \n",
      "---  ------  --------------  ----- \n",
      " 0   Price   2900 non-null   int64 \n",
      " 1   Year    2900 non-null   int64 \n",
      " 2   Type    2900 non-null   object\n",
      " 3   Shift   2900 non-null   object\n",
      " 4   km      2900 non-null   int64 \n",
      " 5   Power   2900 non-null   int64 \n",
      " 6   Engine  2900 non-null   int64 \n",
      " 7   Seller  2900 non-null   object\n",
      "dtypes: int64(5), object(3)\n",
      "memory usage: 181.4+ KB\n"
     ]
    }
   ],
   "source": [
    "cars_data.info()"
   ]
  },
  {
   "cell_type": "code",
   "execution_count": 102,
   "id": "4a9f02db",
   "metadata": {},
   "outputs": [
    {
     "data": {
      "text/plain": [
       "(2900, 8)"
      ]
     },
     "execution_count": 102,
     "metadata": {},
     "output_type": "execute_result"
    }
   ],
   "source": [
    "cars_data.shape"
   ]
  },
  {
   "cell_type": "code",
   "execution_count": 103,
   "id": "a866c570",
   "metadata": {},
   "outputs": [
    {
     "data": {
      "text/plain": [
       "Price     0\n",
       "Year      0\n",
       "Type      0\n",
       "Shift     0\n",
       "km        0\n",
       "Power     0\n",
       "Engine    0\n",
       "Seller    0\n",
       "dtype: int64"
      ]
     },
     "execution_count": 103,
     "metadata": {},
     "output_type": "execute_result"
    }
   ],
   "source": [
    "#Checking the number of missing values\n",
    "cars_data.isnull().sum()"
   ]
  },
  {
   "cell_type": "code",
   "execution_count": 104,
   "id": "b727fbfd",
   "metadata": {},
   "outputs": [
    {
     "name": "stdout",
     "output_type": "stream",
     "text": [
      "Gasoline    1133\n",
      "Diesel      1113\n",
      "LPG          654\n",
      "Name: Type, dtype: int64\n",
      "Manual    1951\n",
      "Auto       949\n",
      "Name: Shift, dtype: int64\n",
      "Owner     1635\n",
      "Dealer    1265\n",
      "Name: Seller, dtype: int64\n"
     ]
    }
   ],
   "source": [
    "#checking the distrubition of categorical data \n",
    "print(cars_data.Type.value_counts())\n",
    "print(cars_data.Shift.value_counts())\n",
    "print(cars_data.Seller.value_counts())"
   ]
  },
  {
   "cell_type": "markdown",
   "id": "c7f0cbe4",
   "metadata": {},
   "source": [
    "# Encoding the categorical datas "
   ]
  },
  {
   "cell_type": "code",
   "execution_count": 105,
   "id": "537ee06e",
   "metadata": {},
   "outputs": [],
   "source": [
    "#encoding \"Type\"\n",
    "cars_data.replace({\"Type\":{\"Gasoline\": 0,\"Diesel\":1, \"LPG\": 2}},inplace = True)"
   ]
  },
  {
   "cell_type": "code",
   "execution_count": 106,
   "id": "c69efaa7",
   "metadata": {},
   "outputs": [],
   "source": [
    "#encoding \"Shift\"\n",
    "cars_data.replace({\"Shift\":{\"Manual\": 0,\"Auto\":1}},inplace=True)"
   ]
  },
  {
   "cell_type": "code",
   "execution_count": 107,
   "id": "0ad2deb3",
   "metadata": {},
   "outputs": [],
   "source": [
    "#Encoding \"Seller\"\n",
    "cars_data.replace({\"Seller\":{\"Owner\": 0,\"Dealer\":1}},inplace=True)"
   ]
  },
  {
   "cell_type": "code",
   "execution_count": 108,
   "id": "f297016c",
   "metadata": {},
   "outputs": [],
   "source": [
    "#Splitting data in to 2 parts: DATA and TARGET\n",
    "X=cars_data.drop([\"Price\"],axis=1)\n",
    "Y=cars_data[\"Price\"]"
   ]
  },
  {
   "cell_type": "code",
   "execution_count": 109,
   "id": "e44e7877",
   "metadata": {},
   "outputs": [],
   "source": [
    "# Splitting data into train and test\n",
    "X_train, X_test, Y_train, Y_test = train_test_split(X,Y,test_size=0.2,) "
   ]
  },
  {
   "cell_type": "markdown",
   "id": "0fbe7499",
   "metadata": {},
   "source": [
    "# Model Training"
   ]
  },
  {
   "cell_type": "code",
   "execution_count": 110,
   "id": "55912185",
   "metadata": {},
   "outputs": [],
   "source": [
    "#Linear Regression Model"
   ]
  },
  {
   "cell_type": "code",
   "execution_count": 111,
   "id": "30f918ec",
   "metadata": {},
   "outputs": [],
   "source": [
    "lr = LinearRegression()"
   ]
  },
  {
   "cell_type": "code",
   "execution_count": 112,
   "id": "37cf7798",
   "metadata": {},
   "outputs": [
    {
     "data": {
      "text/plain": [
       "LinearRegression()"
      ]
     },
     "execution_count": 112,
     "metadata": {},
     "output_type": "execute_result"
    }
   ],
   "source": [
    "lr.fit(X_train,Y_train)"
   ]
  },
  {
   "cell_type": "code",
   "execution_count": 113,
   "id": "80446134",
   "metadata": {},
   "outputs": [],
   "source": [
    "train_data_prediction = lr.predict(X_train)"
   ]
  },
  {
   "cell_type": "code",
   "execution_count": 114,
   "id": "b44ad721",
   "metadata": {},
   "outputs": [
    {
     "name": "stdout",
     "output_type": "stream",
     "text": [
      "r^2 error is 0.8633968140807112\n"
     ]
    }
   ],
   "source": [
    "# r^2 error for train\n",
    "error_score = metrics.r2_score(Y_train, train_data_prediction)\n",
    "print(\"r^2 error is\", error_score)"
   ]
  },
  {
   "cell_type": "code",
   "execution_count": null,
   "id": "5cac73da",
   "metadata": {},
   "outputs": [],
   "source": [
    "# r^2 error for test data\n",
    "test_data_prediction = lr.predict(X_test)\n",
    "error_score = metrics.r2_score(Y_test, test_data_prediction)\n",
    "print(\"r^2 error is\", error_score)"
   ]
  },
  {
   "cell_type": "markdown",
   "id": "ef079e20",
   "metadata": {},
   "source": [
    "# Visualize the actual ad predicted prices"
   ]
  },
  {
   "cell_type": "code",
   "execution_count": 115,
   "id": "e2d9e587",
   "metadata": {},
   "outputs": [
    {
     "data": {
      "image/png": "[encoded data removed]",
      "text/plain": [
       "<Figure size 640x480 with 1 Axes>"
      ]
     },
     "metadata": {},
     "output_type": "display_data"
    }
   ],
   "source": [
    "plt.scatter(Y_train, train_data_prediction)\n",
    "plt.xlabel(\"Actual Price\")\n",
    "plt.ylabel(\"Predicted Price\")\n",
    "plt.title(\"Actual vs Predicted\")\n",
    "plt.show()"
   ]
  },
  {
   "cell_type": "code",
   "execution_count": 117,
   "id": "cf550fed",
   "metadata": {},
   "outputs": [
    {
     "data": {
      "image/png": "[encoded data removed]",
      "text/plain": [
       "<Figure size 640x480 with 1 Axes>"
      ]
     },
     "metadata": {},
     "output_type": "display_data"
    }
   ],
   "source": [
    "plt.scatter(Y_test, test_data_prediction)\n",
    "plt.xlabel(\"Actual Price\")\n",
    "plt.ylabel(\"Predicted Price\")\n",
    "plt.title(\"Actual vs Predicted\")\n",
    "plt.show()"
   ]
  },
  {
   "cell_type": "code",
   "execution_count": null,
   "id": "7b222720",
   "metadata": {},
   "outputs": [],
   "source": []
  }
 ],
 "metadata": {
  "kernelspec": {
   "display_name": "Python 3 (ipykernel)",
   "language": "python",
   "name": "python3"
  },
  "language_info": {
   "codemirror_mode": {
    "name": "ipython",
    "version": 3
   },
   "file_extension": ".py",
   "mimetype": "text/x-python",
   "name": "python",
   "nbconvert_exporter": "python",
   "pygments_lexer": "ipython3",
   "version": "3.9.12"
  }
 },
 "nbformat": 4,
 "nbformat_minor": 5
}
